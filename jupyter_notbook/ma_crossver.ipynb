{
 "cells": [
  {
   "cell_type": "code",
   "execution_count": 755,
   "metadata": {},
   "outputs": [],
   "source": [
    "import yfinance as yf\n",
    "import pandas as pd\n",
    "import datetime as dt\n",
    "import numpy as np\n",
    "import os\n",
    "# print(os.getcwd())\n",
    "# # os.chdir(\"../\")\n",
    "# print(os.getcwd())\n",
    "from technical_indicator import moving_average as ma\n",
    "import matplotlib.pyplot as plt"
   ]
  },
  {
   "cell_type": "code",
   "execution_count": 756,
   "metadata": {},
   "outputs": [
    {
     "name": "stdout",
     "output_type": "stream",
     "text": [
      "[*********************100%***********************]  1 of 1 completed\n"
     ]
    }
   ],
   "source": [
    "import yfinance as yf\n",
    "import pandas as pd\n",
    "# Valid periods: 1d,5d,1mo,3mo,6mo,1y,2y,5y,10y,ytd,max\n",
    "# Valid intervals: 1m,2m,5m,15m,30m,60m,90m,1h,1d,5d,1wk,1mo,3mo\n",
    "ticker = \"YESBANK.NS\"\n",
    "df = yf.download(ticker,period=\"10y\",interval=\"1d\")\n",
    "df.dropna(inplace=True) # drop NA value from data frame"
   ]
  },
  {
   "cell_type": "code",
   "execution_count": 757,
   "metadata": {},
   "outputs": [],
   "source": [
    "# Call ema function that Calculate 50-days, 200-days EMA\n",
    "days=[50,200]\n",
    "for i in days:\n",
    "    ma.ema(df, days=i)"
   ]
  },
  {
   "cell_type": "code",
   "execution_count": 758,
   "metadata": {},
   "outputs": [],
   "source": [
    "# Condition to match EMA cross over early stage of stock movement\n",
    "# 1. 50-days EMA > 200-days EMA\n",
    "# 2. Current Closing Price > 50-days EMA\n",
    "# 3. 50-days EMA should not be too far from 200-days EMA.(50-days EMA < 5% of 200-days EMA)\n",
    "# 4. Current closing price should not be too far from 50-days EMA. (Closing Price < 2% of 5-days EMA)\n",
    "\n",
    "# save result in new data frame: result_df\n",
    "\n",
    "result_df = df.loc[(df['50days_ema'] > df['200days_ema']) & \n",
    "                   (df['50days_ema'] < df['200days_ema']*1.05) &\n",
    "                 (df['Close'] > df['50days_ema']) &\n",
    "                    (df['Close'] < df['50days_ema']*(1.02))]"
   ]
  },
  {
   "cell_type": "code",
   "execution_count": 759,
   "metadata": {},
   "outputs": [],
   "source": [
    "# Condition to match EMA cross over early stage of stock movement\n",
    "# 1. 50-days EMA > 150-days EMA > 200-days EMA\n",
    "# 2. Current Closing Price > 50-days EMA\n",
    "# 3. 50-days EMA should not be too far from 150-days EMA.(50-days EMA < 2% of 150-days EMA)\n",
    "# 4. Current closing price should not be too far from 50-days EMA. (Closing Price < 2% of 5-days EMA)\n",
    "\n",
    "# save result in new data frame: result_df\n",
    "\n",
    "# result_df = df.loc[(df['150days_ema'] > df['200days_ema']) & (df['50days_ema'] > df['150days_ema']) & \n",
    "#                    (df['50days_ema'] < df['150days_ema']*1.02) &\n",
    "#                  (df['Close'] > df['50days_ema']) &\n",
    "#                     (df['Close'] < df['50days_ema']*(1.02))]\n"
   ]
  },
  {
   "cell_type": "code",
   "execution_count": 760,
   "metadata": {},
   "outputs": [],
   "source": [
    "# Create new Empty DataFrame that calculate 1 year return\n",
    "\n",
    "result_1_year = pd.DataFrame()\n",
    "result_1_year['Current_Close_Price'] = np.nan # Current Closing Price from result_df data frame\n",
    "result_1_year['After_1year_Closing_Price'] = np.nan # Closing Price After 1 year from \"Current Closing Price\""
   ]
  },
  {
   "cell_type": "code",
   "execution_count": 761,
   "metadata": {},
   "outputs": [
    {
     "name": "stdout",
     "output_type": "stream",
     "text": [
      "Excepton index 0 is out of bounds for axis 0 with size 0\n",
      "Excepton index 0 is out of bounds for axis 0 with size 0\n",
      "Excepton index 0 is out of bounds for axis 0 with size 0\n",
      "Excepton index 0 is out of bounds for axis 0 with size 0\n",
      "Excepton index 0 is out of bounds for axis 0 with size 0\n",
      "Excepton index 0 is out of bounds for axis 0 with size 0\n"
     ]
    }
   ],
   "source": [
    "# Adding data to result_1_year datafame\n",
    "\n",
    "for i in range(len(result_df.index)):\n",
    "    result_1_year['Current_Close_Price'] = result_df['Close']\n",
    "    try:\n",
    "        result_1_year['After_1year_Closing_Price'][i] = df[df.index == (result_df.index[i] + timedelta(365))]['Close'][0]\n",
    "    except Exception as e:\n",
    "        print(\"Excepton\", e) "
   ]
  },
  {
   "cell_type": "code",
   "execution_count": 749,
   "metadata": {},
   "outputs": [],
   "source": [
    "# Calculate % of profit/loss in 1 year\n",
    "\n",
    "result_1_year['gain_or_loss'] = ((result_1_year['After_1year_Closing_Price'] - result_1_year['Current_Close_Price'])\n",
    "        /result_1_year['Current_Close_Price'])*100"
   ]
  },
  {
   "cell_type": "code",
   "execution_count": 750,
   "metadata": {},
   "outputs": [],
   "source": [
    "# Saving Result to Excel sheet\n",
    "\n",
    "# result_1_year.to_excel(\"result_{}.xlsx\".format(ticker))"
   ]
  },
  {
   "cell_type": "code",
   "execution_count": 751,
   "metadata": {},
   "outputs": [],
   "source": [
    "# rslt_df_after_2010 = rslt_df.loc[rslt_df['years'] > 2010]\n",
    "# rslt_df_after_2015"
   ]
  },
  {
   "cell_type": "code",
   "execution_count": null,
   "metadata": {
    "scrolled": true
   },
   "outputs": [],
   "source": []
  },
  {
   "cell_type": "code",
   "execution_count": 752,
   "metadata": {},
   "outputs": [],
   "source": [
    "# import datetime as dt\n",
    "\n",
    "# df['years'] =  df.index.year\n",
    "# df.tail()\n",
    "# df_new = df.groupby('years')\n",
    "# type(df_new)\n",
    "# df_new.size()\n",
    "# years = list(set(dates))\n",
    "# years\n",
    "# x = [dt.datetime(d,'%m/%d/%Y').date() for d in dates]\n",
    "# dates[0].year\n",
    "# y = range(len(dates))\n",
    "result_1_year['year'] = result_1_year.index.year\n",
    "result_new = result_1_year.groupby('year', as_index=False).aggregate({'gain_or_loss': [\"mean\",\"max\", \"min\"]})"
   ]
  },
  {
   "cell_type": "code",
   "execution_count": 753,
   "metadata": {},
   "outputs": [
    {
     "data": {
      "text/html": [
       "<div>\n",
       "<style scoped>\n",
       "    .dataframe tbody tr th:only-of-type {\n",
       "        vertical-align: middle;\n",
       "    }\n",
       "\n",
       "    .dataframe tbody tr th {\n",
       "        vertical-align: top;\n",
       "    }\n",
       "\n",
       "    .dataframe thead tr th {\n",
       "        text-align: left;\n",
       "    }\n",
       "</style>\n",
       "<table border=\"1\" class=\"dataframe\">\n",
       "  <thead>\n",
       "    <tr>\n",
       "      <th></th>\n",
       "      <th>year</th>\n",
       "      <th colspan=\"3\" halign=\"left\">gain_or_loss</th>\n",
       "    </tr>\n",
       "    <tr>\n",
       "      <th></th>\n",
       "      <th></th>\n",
       "      <th>mean</th>\n",
       "      <th>max</th>\n",
       "      <th>min</th>\n",
       "    </tr>\n",
       "  </thead>\n",
       "  <tbody>\n",
       "    <tr>\n",
       "      <th>0</th>\n",
       "      <td>2012</td>\n",
       "      <td>31.18</td>\n",
       "      <td>48.63</td>\n",
       "      <td>6.21</td>\n",
       "    </tr>\n",
       "    <tr>\n",
       "      <th>1</th>\n",
       "      <td>2013</td>\n",
       "      <td>6.06</td>\n",
       "      <td>7.21</td>\n",
       "      <td>4.91</td>\n",
       "    </tr>\n",
       "    <tr>\n",
       "      <th>2</th>\n",
       "      <td>2018</td>\n",
       "      <td>-61.11</td>\n",
       "      <td>-47.91</td>\n",
       "      <td>-71.32</td>\n",
       "    </tr>\n",
       "  </tbody>\n",
       "</table>\n",
       "</div>"
      ],
      "text/plain": [
       "   year gain_or_loss              \n",
       "                mean    max    min\n",
       "0  2012        31.18  48.63   6.21\n",
       "1  2013         6.06   7.21   4.91\n",
       "2  2018       -61.11 -47.91 -71.32"
      ]
     },
     "execution_count": 753,
     "metadata": {},
     "output_type": "execute_result"
    }
   ],
   "source": [
    "# result_1_year.groupby(['year']).groups.keys()\n",
    "result_new"
   ]
  },
  {
   "cell_type": "code",
   "execution_count": 754,
   "metadata": {},
   "outputs": [
    {
     "data": {
      "text/plain": [
       "Text(0, 0.5, 'percent of gain_or_loss')"
      ]
     },
     "execution_count": 754,
     "metadata": {},
     "output_type": "execute_result"
    },
    {
     "data": {
      "image/png": "[encoded data removed]",
      "text/plain": [
       "<Figure size 504x504 with 1 Axes>"
      ]
     },
     "metadata": {
      "needs_background": "light"
     },
     "output_type": "display_data"
    }
   ],
   "source": [
    "#bar plot of above result\n",
    "plt.rcParams[\"figure.figsize\"] = [7,7]\n",
    "result_new.plot(x=\"year\", y='gain_or_loss', kind=\"bar\", yticks=list(range(-50,200,25)))\n",
    "plt.axhline(y=0.0, color='r', linestyle='-')\n",
    "plt.title(ticker)\n",
    "plt.ylabel(\"percent of gain_or_loss\")"
   ]
  },
  {
   "cell_type": "code",
   "execution_count": 682,
   "metadata": {},
   "outputs": [],
   "source": [
    "# plt.rcParams[\"figure.figsize\"] = [15,7]\n",
    "# plt.axhline(y=0.0, color='r', linestyle='-')\n",
    "# plt.plot(df.index, df[\"difference(30days_ema-40days_ema)\"])\n",
    "# plt.plot(df.index, df[\"30days_ema\"])\n",
    "# plt.plot(df.index, df[\"40days_ema\"])\n",
    "\n",
    "# plt.hist(years, df[\"difference(30days_ema-40days_ema)\"], histtype='bar', rwidth=1)"
   ]
  },
  {
   "cell_type": "code",
   "execution_count": null,
   "metadata": {},
   "outputs": [],
   "source": []
  }
 ],
 "metadata": {
  "kernelspec": {
   "display_name": "Python 3",
   "language": "python",
   "name": "python3"
  },
  "language_info": {
   "codemirror_mode": {
    "name": "ipython",
    "version": 3
   },
   "file_extension": ".py",
   "mimetype": "text/x-python",
   "name": "python",
   "nbconvert_exporter": "python",
   "pygments_lexer": "ipython3",
   "version": "3.8.5"
  }
 },
 "nbformat": 4,
 "nbformat_minor": 4
}
