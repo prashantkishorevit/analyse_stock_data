{
 "cells": [
  {
   "cell_type": "code",
   "execution_count": 16,
   "metadata": {},
   "outputs": [
    {
     "name": "stdout",
     "output_type": "stream",
     "text": [
      "C:\\Users\\Prashant\\courses\\analyse_stock_data_chart\\jupyter notbook\n"
     ]
    }
   ],
   "source": [
    "import yfinance as yf\n",
    "import pandas as pd\n",
    "import datetime as dt\n",
    "import numpy as np\n",
    "ticker = \"FINCABLES.NS\"\n",
    "import os\n",
    "os.listdir()\n",
    "print(os.getcwd())"
   ]
  },
  {
   "cell_type": "code",
   "execution_count": 10,
   "metadata": {},
   "outputs": [
    {
     "ename": "ModuleNotFoundError",
     "evalue": "No module named 'technical_indicator'",
     "output_type": "error",
     "traceback": [
      "\u001b[1;31m---------------------------------------------------------------------------\u001b[0m",
      "\u001b[1;31mModuleNotFoundError\u001b[0m                       Traceback (most recent call last)",
      "\u001b[1;32m<ipython-input-10-16c106c7df2e>\u001b[0m in \u001b[0;36m<module>\u001b[1;34m\u001b[0m\n\u001b[0;32m      1\u001b[0m \u001b[1;32mimport\u001b[0m \u001b[0myfinance\u001b[0m \u001b[1;32mas\u001b[0m \u001b[0myf\u001b[0m\u001b[1;33m\u001b[0m\u001b[1;33m\u001b[0m\u001b[0m\n\u001b[0;32m      2\u001b[0m \u001b[1;32mimport\u001b[0m \u001b[0mpandas\u001b[0m \u001b[1;32mas\u001b[0m \u001b[0mpd\u001b[0m\u001b[1;33m\u001b[0m\u001b[1;33m\u001b[0m\u001b[0m\n\u001b[1;32m----> 3\u001b[1;33m \u001b[1;32mfrom\u001b[0m \u001b[0mtechnical_indicator\u001b[0m \u001b[1;32mimport\u001b[0m \u001b[0mmoving_average\u001b[0m \u001b[1;32mas\u001b[0m \u001b[0mma\u001b[0m\u001b[1;33m\u001b[0m\u001b[1;33m\u001b[0m\u001b[0m\n\u001b[0m\u001b[0;32m      4\u001b[0m \u001b[1;32mfrom\u001b[0m \u001b[0mdata_extraction\u001b[0m \u001b[1;32mimport\u001b[0m \u001b[0msymbol_extract\u001b[0m\u001b[1;33m\u001b[0m\u001b[1;33m\u001b[0m\u001b[0m\n\u001b[0;32m      5\u001b[0m \u001b[1;33m\u001b[0m\u001b[0m\n",
      "\u001b[1;31mModuleNotFoundError\u001b[0m: No module named 'technical_indicator'"
     ]
    }
   ],
   "source": [
    "import yfinance as yf\n",
    "import pandas as pd\n",
    "from technical_indicator import moving_average as ma\n",
    "from data_extraction import symbol_extract\n",
    "\n",
    "\n",
    "pd.options.display.float_format = '{:,.2f}'.format\n",
    "pd.set_option(\"mode.chained_assignment\", None)\n",
    "\n",
    "\n",
    "file_path = \"../data/ind_nifty50list.csv\"\n",
    "\n",
    "symbol_list = symbol_extract.extract_symbol(file_path) # Extract stock symbol\n",
    "\n",
    "stock_above_sma= [] # Creating empty list\n",
    "\n",
    "for i in symbol_list:\n",
    "    try:\n",
    "        df = yf.download(\"{}.NS\".format(i), period=\"1y\", interval=\"1d\") # Extract last 1yr daily stock data\n",
    "        df.dropna(inplace=True)\n",
    "        ma.sma(df, days=200) # calling SMA function\n",
    "        current_closing_price = df[\"Close\"][-1] # current day closing price\n",
    "        current_sma = df[\"200days_sma\"][-1] # current day 200D SMA\n",
    "        if current_closing_price > current_sma:\n",
    "            stock_above_sma.append(i)\n",
    "    except Exception as e:\n",
    "        print(\"Exceptioin \", e)\n",
    "\n",
    "print(\"list of stocks moving above 200 days SMA:\", stock_above_sma)\n",
    "print(len(stock_above_sma))"
   ]
  },
  {
   "cell_type": "code",
   "execution_count": null,
   "metadata": {},
   "outputs": [],
   "source": [
    "import yfinance as yf\n",
    "import pandas as pd\n",
    "\n",
    "symbol = \"FINCABLES.NS\"\n",
    "df = yf.download(symbol, period=\"max\", interval=\"1d\")"
   ]
  },
  {
   "cell_type": "code",
   "execution_count": null,
   "metadata": {},
   "outputs": [],
   "source": [
    "# data Download OHLCV\n",
    "\n",
    "df = yf.download(\"FINCABLES.NS\",period=\"max\",interval=\"1wk\")"
   ]
  },
  {
   "cell_type": "code",
   "execution_count": null,
   "metadata": {},
   "outputs": [],
   "source": [
    "df.head()\n",
    "# Drop Nan value from datta\n",
    "df.dropna(inplace=True)"
   ]
  },
  {
   "cell_type": "code",
   "execution_count": null,
   "metadata": {},
   "outputs": [],
   "source": [
    "# df.head()\n",
    "High_max = max(df.iloc[-10:-5][\"High\"])\n",
    "Low_min = min(df.iloc[-10:-5][\"Low\"])\n",
    "print(High_max)\n",
    "print(Low_min)\n",
    "(High_max-Low_min)/High_max\n",
    "df.iloc[-10:-1][\"High\"].mean()"
   ]
  },
  {
   "cell_type": "code",
   "execution_count": null,
   "metadata": {},
   "outputs": [],
   "source": [
    "# Calculate EMA(10, 30, 40)\n",
    "EMA = [10, 30, 40]\n",
    "for i in EMA:\n",
    "    df.loc[:, 'ema{}'.format(i)] = technical_indicator.ema(df.Close, timeperiod=i)\n",
    "    "
   ]
  },
  {
   "cell_type": "code",
   "execution_count": null,
   "metadata": {},
   "outputs": [],
   "source": [
    "# calculate 10dsma of volume\n",
    "df.loc[:, 'sma10dv'] = technical_indicator.sma(df.Close, timeperiod=10)"
   ]
  },
  {
   "cell_type": "code",
   "execution_count": null,
   "metadata": {},
   "outputs": [],
   "source": [
    "# calculate Price Contraction\n",
    "df[\"Close Prie > EMA\"]  = ((df.Close > df.ema10) & (df.Close > df.ema30) & (df.Close > df.ema40))\n"
   ]
  },
  {
   "cell_type": "code",
   "execution_count": null,
   "metadata": {},
   "outputs": [],
   "source": [
    "# Calculate 10SMA > VW*1.2\n",
    "df[\"10SMA > VW*1.2\"]  = ((df.sma10dv > df.Volume*1.2))"
   ]
  },
  {
   "cell_type": "code",
   "execution_count": null,
   "metadata": {},
   "outputs": [],
   "source": [
    "# Calculate PRICE CONTRACTION\n",
    "df[\"Price Diff((H-L)/L)\"]  = (df[\"High\"] - df[\"Low\"])/df[\"Low\"]"
   ]
  },
  {
   "cell_type": "code",
   "execution_count": null,
   "metadata": {},
   "outputs": [],
   "source": [
    "# Calculate PRICE CONTRACTION Pattern\n",
    "df[\"Price Contraction\"] = np.where(df[\"Price Diff((H-L)/L)\"] <= 0.10, True, False)"
   ]
  },
  {
   "cell_type": "code",
   "execution_count": null,
   "metadata": {},
   "outputs": [],
   "source": [
    "df_new = df.loc[(df[\"Price Contraction\"] == True) & (df[\"Close Prie > EMA\"] == True)]"
   ]
  },
  {
   "cell_type": "code",
   "execution_count": null,
   "metadata": {},
   "outputs": [],
   "source": [
    "from datetime import date\n",
    "from datetime import datetime\n",
    "from datetime import timedelta"
   ]
  },
  {
   "cell_type": "code",
   "execution_count": null,
   "metadata": {},
   "outputs": [],
   "source": [
    "# d = \"04-12-2020\"\n",
    "\n",
    "# d1 = datetime.strptime(d,  \"%d-%m-%Y\")\n",
    "# d2 = timedelta(weeks=5)\n",
    "# # d2.days\n",
    "# new_date = d1-timedelta(weeks=6)\n",
    "# new_date"
   ]
  },
  {
   "cell_type": "code",
   "execution_count": null,
   "metadata": {},
   "outputs": [],
   "source": [
    "# df[new_date:]\n",
    "alist = list(df.iloc[-10:][\"Price Contraction\"] == True)\n",
    "if alist.count(True) >=6:\n",
    "    print(\"Stock is going throgh Price Contraction\")\n",
    "#     df.to_excel(\"{}_analyse.xlsx\".format(ticker), index=True)\n",
    "    print(ticker)\n"
   ]
  },
  {
   "cell_type": "code",
   "execution_count": null,
   "metadata": {},
   "outputs": [],
   "source": [
    "df = pd.read_csv(\"./data/ind_nifty500list.csv\")"
   ]
  },
  {
   "cell_type": "code",
   "execution_count": null,
   "metadata": {},
   "outputs": [],
   "source": [
    "symbol_list = list(df[\"Symbol\"])\n"
   ]
  },
  {
   "cell_type": "code",
   "execution_count": null,
   "metadata": {},
   "outputs": [],
   "source": [
    "# len(symbol_list)\n",
    "symbol_list[-1]"
   ]
  },
  {
   "cell_type": "code",
   "execution_count": null,
   "metadata": {},
   "outputs": [],
   "source": [
    "df.iloc[-10:]"
   ]
  }
 ],
 "metadata": {
  "kernelspec": {
   "display_name": "Python 3",
   "language": "python",
   "name": "python3"
  },
  "language_info": {
   "codemirror_mode": {
    "name": "ipython",
    "version": 3
   },
   "file_extension": ".py",
   "mimetype": "text/x-python",
   "name": "python",
   "nbconvert_exporter": "python",
   "pygments_lexer": "ipython3",
   "version": "3.8.5"
  }
 },
 "nbformat": 4,
 "nbformat_minor": 4
}
