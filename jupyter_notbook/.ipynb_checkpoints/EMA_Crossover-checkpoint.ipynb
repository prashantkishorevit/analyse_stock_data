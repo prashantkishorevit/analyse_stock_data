{
 "cells": [
  {
   "cell_type": "code",
   "execution_count": null,
   "metadata": {},
   "outputs": [],
   "source": [
    "import yfinance as yf\n",
    "import pandas as pd\n",
    "import numpy as np\n",
    "import matplotlib.pyplot as plt\n",
    "import os\n",
    "# os.chdir('../')\n",
    "from datetime import timedelta\n",
    "from technical_indicator import moving_average as ma\n",
    "pd.options.display.float_format = '{:,.2f}'.format\n",
    "pd.set_option(\"mode.chained_assignment\", None)"
   ]
  },
  {
   "cell_type": "code",
   "execution_count": null,
   "metadata": {},
   "outputs": [],
   "source": [
    "# Valid periods: 1d,5d,1mo,3mo,6mo,1y,2y,5y,10y,ytd,max\n",
    "# Valid intervals: 1m,2m,5m,15m,30m,60m,90m,1h,1d,5d,1wk,1mo,3mo\n",
    "\n",
    "ticker = \"HDFCBANK.NS\"\n",
    "df = yf.download(ticker,period=\"10y\",interval=\"1d\")\n",
    "df.dropna(inplace=True) # drop NA value from data frame"
   ]
  },
  {
   "cell_type": "code",
   "execution_count": null,
   "metadata": {},
   "outputs": [],
   "source": [
    "# Calling ema function that Calculate 50-days, 200-days EMA\n",
    "\n",
    "days=[50,200]\n",
    "for i in days:\n",
    "    ma.ema(df, days=i)"
   ]
  },
  {
   "cell_type": "code",
   "execution_count": null,
   "metadata": {},
   "outputs": [],
   "source": [
    "# Condition that match 50-days EMA > 200-days EMA.\n",
    "# 1. 50-days EMA > 200-days EMA\n",
    "# 2. Current Closing Price > 50-days EMA\n",
    "# 3. 50-days EMA should not be too far from 200-days EMA.(50-days EMA < 5% of 200-days EMA)\n",
    "# 4. Current closing price should not be too far from 50-days EMA. (Closing Price < 2% of 5-days EMA)\n",
    "\n",
    "# Filter data based on above condition and save the result in new data frame: df_result\n",
    "\n",
    "df_result = df.loc[(df['50days_ema'] > df['200days_ema']) & \n",
    "                   (df['50days_ema'] < df['200days_ema']*1.05) &\n",
    "                 (df['Close'] > df['50days_ema']) &\n",
    "                    (df['Close'] < df['50days_ema']*(1.02))]\n",
    "print(df_result.shape[0])\n",
    "print(df_result.iloc[-1])"
   ]
  },
  {
   "cell_type": "code",
   "execution_count": null,
   "metadata": {},
   "outputs": [],
   "source": [
    "# Inserting data(Closing_Price_After_1Yr) to datafame-df_result\n",
    "\n",
    "count = 0\n",
    "df_result['Closing_Price_After_1Yr'] = np.nan\n",
    "\n",
    "for i in range(len(df_result.index)):\n",
    "    try:\n",
    "        if (df_result.index[i] + timedelta(365)).isoweekday() in set((6, 7)):\n",
    "            dt = df_result.index[i] + timedelta(365) + datetime.timedelta(days=-2)\n",
    "            df_result['Closing_Price_After_1Yr'][i] = df[df.index == dt]['Close'][0]\n",
    "        else:\n",
    "            df_result['Closing_Price_After_1Yr'][i] = df[df.index == (df_result.index[i] + timedelta(365))]['Close'][0]\n",
    "    \n",
    "    except Exception as e:\n",
    "#         print(\"Excepton\", e)\n",
    "        count = count+1\n",
    "        \n",
    "print(count)"
   ]
  },
  {
   "cell_type": "code",
   "execution_count": null,
   "metadata": {},
   "outputs": [],
   "source": [
    "# Calculate % of profit/loss in 1 year from buy signal\n",
    "\n",
    "df_result['%gain_or_loss'] = ((df_result['Closing_Price_After_1Yr'] - df_result['Close'])\n",
    "        /df_result['Close'])*100\n",
    "\n",
    "df_result['year'] = df_result.index.year # Add year Column"
   ]
  },
  {
   "cell_type": "code",
   "execution_count": null,
   "metadata": {},
   "outputs": [],
   "source": [
    "# Group above result by year and Find % of gain/loss(mean, max, min). Sav Result in data frame-gain_loss_per_year\n",
    "\n",
    "gain_loss_per_year = df_result.groupby('year', as_index=False).aggregate({'%gain_or_loss': [\"mean\",\"max\", \"min\"]})\n",
    "print(gain_loss_per_year)"
   ]
  },
  {
   "cell_type": "code",
   "execution_count": null,
   "metadata": {},
   "outputs": [],
   "source": [
    "#bar plot of gain_loss_per_year(%)\n",
    "\n",
    "plt.rcParams[\"figure.figsize\"] = [7,7]\n",
    "gain_loss_per_year.plot(x=\"year\", y='%gain_or_loss', kind=\"bar\", yticks=list(range(-50,200,25)))\n",
    "plt.axhline(y=0.0, color='r', linestyle='-')\n",
    "plt.title(ticker)\n",
    "plt.ylabel(\"percentage of gain_or_loss\")"
   ]
  },
  {
   "cell_type": "code",
   "execution_count": null,
   "metadata": {},
   "outputs": [],
   "source": []
  }
 ],
 "metadata": {
  "kernelspec": {
   "display_name": "Python 3",
   "language": "python",
   "name": "python3"
  },
  "language_info": {
   "codemirror_mode": {
    "name": "ipython",
    "version": 3
   },
   "file_extension": ".py",
   "mimetype": "text/x-python",
   "name": "python",
   "nbconvert_exporter": "python",
   "pygments_lexer": "ipython3",
   "version": "3.8.5"
  }
 },
 "nbformat": 4,
 "nbformat_minor": 4
}
