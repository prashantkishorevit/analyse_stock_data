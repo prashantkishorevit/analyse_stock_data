{
 "cells": [
  {
   "cell_type": "code",
   "execution_count": 18,
   "metadata": {},
   "outputs": [],
   "source": [
    "import yfinance as yf\n",
    "import pandas as pd\n",
    "from technical_indicator import moving_average as ma\n",
    "import datetime as dt\n",
    "import numpy as np\n",
    "ticker = \"HDFCBANK.NS\"\n",
    "pd.options.display.float_format = '{:,.2f}'.format\n",
    "pd.set_option(\"mode.chained_assignment\", None)"
   ]
  },
  {
   "cell_type": "code",
   "execution_count": 20,
   "metadata": {},
   "outputs": [
    {
     "name": "stdout",
     "output_type": "stream",
     "text": [
      "[*********************100%***********************]  1 of 1 completed\n"
     ]
    },
    {
     "data": {
      "text/plain": [
       "(251, 6)"
      ]
     },
     "execution_count": 20,
     "metadata": {},
     "output_type": "execute_result"
    }
   ],
   "source": [
    "# data Download OHLCV\n",
    "\n",
    "df = yf.download(ticker,period=\"1y\",interval=\"1d\")\n",
    "df.shape\n",
    "# df[\"Close\"].isna().sum()\n",
    "# df.tail()"
   ]
  },
  {
   "cell_type": "code",
   "execution_count": 23,
   "metadata": {},
   "outputs": [],
   "source": [
    "days=200\n",
    "col=\"Close\"\n",
    "start=0\n",
    "df['{}days_sma'.format(days)] = \"\"\n",
    "if df.shape[0] > days:\n",
    "    for i in range(days, (df.shape[0] + 1)):\n",
    "        df['{}days_sma'.format(days)][i - 1] = df.iloc[start:i, df.columns.get_loc(col)].sum(axis=0) / days\n",
    "        start = start + 1"
   ]
  },
  {
   "cell_type": "code",
   "execution_count": null,
   "metadata": {},
   "outputs": [],
   "source": [
    "# dfclose = df[[\"Close\"]]\n",
    "# # df_new=  dfclose.dropna()\n",
    "# df_new.shape\n",
    "# df_new.iloc[0:2, -1].sum(axis=0)"
   ]
  },
  {
   "cell_type": "code",
   "execution_count": 25,
   "metadata": {},
   "outputs": [
    {
     "data": {
      "text/html": [
       "<div>\n",
       "<style scoped>\n",
       "    .dataframe tbody tr th:only-of-type {\n",
       "        vertical-align: middle;\n",
       "    }\n",
       "\n",
       "    .dataframe tbody tr th {\n",
       "        vertical-align: top;\n",
       "    }\n",
       "\n",
       "    .dataframe thead th {\n",
       "        text-align: right;\n",
       "    }\n",
       "</style>\n",
       "<table border=\"1\" class=\"dataframe\">\n",
       "  <thead>\n",
       "    <tr style=\"text-align: right;\">\n",
       "      <th></th>\n",
       "      <th>Open</th>\n",
       "      <th>High</th>\n",
       "      <th>Low</th>\n",
       "      <th>Close</th>\n",
       "      <th>Adj Close</th>\n",
       "      <th>Volume</th>\n",
       "      <th>200days_sma</th>\n",
       "    </tr>\n",
       "    <tr>\n",
       "      <th>Date</th>\n",
       "      <th></th>\n",
       "      <th></th>\n",
       "      <th></th>\n",
       "      <th></th>\n",
       "      <th></th>\n",
       "      <th></th>\n",
       "      <th></th>\n",
       "    </tr>\n",
       "  </thead>\n",
       "  <tbody>\n",
       "    <tr>\n",
       "      <th>2019-12-18</th>\n",
       "      <td>371.60</td>\n",
       "      <td>372.30</td>\n",
       "      <td>361.15</td>\n",
       "      <td>368.65</td>\n",
       "      <td>361.62</td>\n",
       "      <td>108087</td>\n",
       "      <td></td>\n",
       "    </tr>\n",
       "    <tr>\n",
       "      <th>2019-12-19</th>\n",
       "      <td>368.70</td>\n",
       "      <td>370.40</td>\n",
       "      <td>361.00</td>\n",
       "      <td>365.00</td>\n",
       "      <td>358.04</td>\n",
       "      <td>27296</td>\n",
       "      <td></td>\n",
       "    </tr>\n",
       "    <tr>\n",
       "      <th>2019-12-20</th>\n",
       "      <td>365.00</td>\n",
       "      <td>367.10</td>\n",
       "      <td>361.20</td>\n",
       "      <td>363.95</td>\n",
       "      <td>357.01</td>\n",
       "      <td>26783</td>\n",
       "      <td></td>\n",
       "    </tr>\n",
       "    <tr>\n",
       "      <th>2019-12-23</th>\n",
       "      <td>363.10</td>\n",
       "      <td>364.90</td>\n",
       "      <td>357.00</td>\n",
       "      <td>359.80</td>\n",
       "      <td>352.94</td>\n",
       "      <td>32776</td>\n",
       "      <td></td>\n",
       "    </tr>\n",
       "    <tr>\n",
       "      <th>2019-12-24</th>\n",
       "      <td>359.00</td>\n",
       "      <td>363.00</td>\n",
       "      <td>356.45</td>\n",
       "      <td>358.35</td>\n",
       "      <td>351.52</td>\n",
       "      <td>24563</td>\n",
       "      <td></td>\n",
       "    </tr>\n",
       "  </tbody>\n",
       "</table>\n",
       "</div>"
      ],
      "text/plain": [
       "             Open   High    Low  Close  Adj Close  Volume 200days_sma\n",
       "Date                                                                 \n",
       "2019-12-18 371.60 372.30 361.15 368.65     361.62  108087            \n",
       "2019-12-19 368.70 370.40 361.00 365.00     358.04   27296            \n",
       "2019-12-20 365.00 367.10 361.20 363.95     357.01   26783            \n",
       "2019-12-23 363.10 364.90 357.00 359.80     352.94   32776            \n",
       "2019-12-24 359.00 363.00 356.45 358.35     351.52   24563            "
      ]
     },
     "execution_count": 25,
     "metadata": {},
     "output_type": "execute_result"
    }
   ],
   "source": [
    "df.head()"
   ]
  },
  {
   "cell_type": "code",
   "execution_count": 12,
   "metadata": {},
   "outputs": [
    {
     "data": {
      "text/plain": [
       "271.07600021362305"
      ]
     },
     "execution_count": 12,
     "metadata": {},
     "output_type": "execute_result"
    }
   ],
   "source": [
    "# type(df[\"Close\"])\n",
    "# df_new.sum()\n",
    "# df.columns.get_loc(\"Close\")\n",
    "df[\"Close\"][-1]\n",
    "df[\"200days_sma\"][-1]"
   ]
  },
  {
   "cell_type": "code",
   "execution_count": 17,
   "metadata": {},
   "outputs": [
    {
     "data": {
      "text/plain": [
       "'C:\\\\Users\\\\Prashant\\\\courses\\\\data'"
      ]
     },
     "execution_count": 17,
     "metadata": {},
     "output_type": "execute_result"
    }
   ],
   "source": [
    "import os\n",
    "os.getcwd()\n",
    "os.chdir(\"../data\")\n",
    "os.getcwd()"
   ]
  },
  {
   "cell_type": "code",
   "execution_count": 9,
   "metadata": {},
   "outputs": [
    {
     "data": {
      "text/html": [
       "<div>\n",
       "<style scoped>\n",
       "    .dataframe tbody tr th:only-of-type {\n",
       "        vertical-align: middle;\n",
       "    }\n",
       "\n",
       "    .dataframe tbody tr th {\n",
       "        vertical-align: top;\n",
       "    }\n",
       "\n",
       "    .dataframe thead th {\n",
       "        text-align: right;\n",
       "    }\n",
       "</style>\n",
       "<table border=\"1\" class=\"dataframe\">\n",
       "  <thead>\n",
       "    <tr style=\"text-align: right;\">\n",
       "      <th></th>\n",
       "      <th>Open</th>\n",
       "      <th>High</th>\n",
       "      <th>Low</th>\n",
       "      <th>Close</th>\n",
       "      <th>Adj Close</th>\n",
       "      <th>Volume</th>\n",
       "      <th>200days_sma</th>\n",
       "    </tr>\n",
       "    <tr>\n",
       "      <th>Date</th>\n",
       "      <th></th>\n",
       "      <th></th>\n",
       "      <th></th>\n",
       "      <th></th>\n",
       "      <th></th>\n",
       "      <th></th>\n",
       "      <th></th>\n",
       "    </tr>\n",
       "  </thead>\n",
       "  <tbody>\n",
       "    <tr>\n",
       "      <th>2020-12-14</th>\n",
       "      <td>360.00</td>\n",
       "      <td>364.80</td>\n",
       "      <td>353.30</td>\n",
       "      <td>358.60</td>\n",
       "      <td>358.60</td>\n",
       "      <td>329755</td>\n",
       "      <td>270.69</td>\n",
       "    </tr>\n",
       "    <tr>\n",
       "      <th>2020-12-15</th>\n",
       "      <td>357.00</td>\n",
       "      <td>364.95</td>\n",
       "      <td>354.10</td>\n",
       "      <td>362.20</td>\n",
       "      <td>362.20</td>\n",
       "      <td>261444</td>\n",
       "      <td>270.75</td>\n",
       "    </tr>\n",
       "    <tr>\n",
       "      <th>2020-12-16</th>\n",
       "      <td>362.00</td>\n",
       "      <td>367.35</td>\n",
       "      <td>356.20</td>\n",
       "      <td>364.40</td>\n",
       "      <td>364.40</td>\n",
       "      <td>301193</td>\n",
       "      <td>270.83</td>\n",
       "    </tr>\n",
       "    <tr>\n",
       "      <th>2020-12-17</th>\n",
       "      <td>364.40</td>\n",
       "      <td>366.50</td>\n",
       "      <td>350.55</td>\n",
       "      <td>355.20</td>\n",
       "      <td>355.20</td>\n",
       "      <td>189239</td>\n",
       "      <td>270.91</td>\n",
       "    </tr>\n",
       "    <tr>\n",
       "      <th>2020-12-18</th>\n",
       "      <td>357.40</td>\n",
       "      <td>360.90</td>\n",
       "      <td>348.00</td>\n",
       "      <td>357.55</td>\n",
       "      <td>357.55</td>\n",
       "      <td>319826</td>\n",
       "      <td>271.08</td>\n",
       "    </tr>\n",
       "  </tbody>\n",
       "</table>\n",
       "</div>"
      ],
      "text/plain": [
       "             Open   High    Low  Close  Adj Close  Volume 200days_sma\n",
       "Date                                                                 \n",
       "2020-12-14 360.00 364.80 353.30 358.60     358.60  329755      270.69\n",
       "2020-12-15 357.00 364.95 354.10 362.20     362.20  261444      270.75\n",
       "2020-12-16 362.00 367.35 356.20 364.40     364.40  301193      270.83\n",
       "2020-12-17 364.40 366.50 350.55 355.20     355.20  189239      270.91\n",
       "2020-12-18 357.40 360.90 348.00 357.55     357.55  319826      271.08"
      ]
     },
     "execution_count": 9,
     "metadata": {},
     "output_type": "execute_result"
    }
   ],
   "source": [
    "df.tail()"
   ]
  },
  {
   "cell_type": "code",
   "execution_count": null,
   "metadata": {},
   "outputs": [],
   "source": [
    "5\n",
    "0,1,2,3,4\n",
    "1,2,3,4"
   ]
  }
 ],
 "metadata": {
  "kernelspec": {
   "display_name": "Python 3",
   "language": "python",
   "name": "python3"
  },
  "language_info": {
   "codemirror_mode": {
    "name": "ipython",
    "version": 3
   },
   "file_extension": ".py",
   "mimetype": "text/x-python",
   "name": "python",
   "nbconvert_exporter": "python",
   "pygments_lexer": "ipython3",
   "version": "3.8.5"
  }
 },
 "nbformat": 4,
 "nbformat_minor": 4
}
