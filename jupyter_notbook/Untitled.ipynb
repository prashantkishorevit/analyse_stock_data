{
 "cells": [
  {
   "cell_type": "code",
   "execution_count": 1,
   "metadata": {},
   "outputs": [],
   "source": [
    "import yfinance as yf\n",
    "import pandas as pd\n",
    "import numpy as np\n",
    "import datetime as dt\n",
    "import numpy as np\n",
    "import plotly\n",
    "import matplotlib.pyplot as plt\n",
    "import seaborn as sns\n",
    "sns.set_style('whitegrid')\n",
    "get_ipython().magic('matplotlib inline')\n",
    "import openpyxl\n",
    "from technical_indicator import technical_indicator"
   ]
  },
  {
   "cell_type": "code",
   "execution_count": 2,
   "metadata": {},
   "outputs": [],
   "source": [
    "df = pd.read_csv(\"./data/FINCABLES.NS_Weekly.csv\")\n",
    "# df.info()\n",
    "df[[\"Date\"]]= df[[\"Date\"]].apply(pd.to_datetime, format=\"%Y-%m-%d\")\n",
    "# df.shape"
   ]
  },
  {
   "cell_type": "code",
   "execution_count": 3,
   "metadata": {},
   "outputs": [
    {
     "data": {
      "text/plain": [
       "(963, 4)"
      ]
     },
     "execution_count": 3,
     "metadata": {},
     "output_type": "execute_result"
    }
   ],
   "source": [
    "# df.head()\n",
    "# df1 = df[df.isna().any(axis=1)]\n",
    "# df1.shape\n",
    "dfclose = df[[\"Date\",\"Open\",\"Close\", \"Volume\"]]\n",
    "# # dfclose.shape\n",
    "# # dfclose.head()\n",
    "df_new = dfclose.dropna()\n",
    "# dfclose.shape\n",
    "df_new.shape"
   ]
  },
  {
   "cell_type": "code",
   "execution_count": 4,
   "metadata": {},
   "outputs": [],
   "source": [
    "# Daily SMA\n",
    "\n",
    "df_new.loc[:, 'ma50'] = technical_indicator.sma(df_new.Close, timeperiod=50)"
   ]
  },
  {
   "cell_type": "code",
   "execution_count": null,
   "metadata": {},
   "outputs": [],
   "source": []
  },
  {
   "cell_type": "code",
   "execution_count": 225,
   "metadata": {
    "collapsed": true
   },
   "outputs": [
    {
     "name": "stderr",
     "output_type": "stream",
     "text": [
      "C:\\Users\\Prashant\\Anaconda3\\envs\\quant\\lib\\site-packages\\pandas\\core\\indexing.py:1745: SettingWithCopyWarning: \n",
      "A value is trying to be set on a copy of a slice from a DataFrame.\n",
      "Try using .loc[row_indexer,col_indexer] = value instead\n",
      "\n",
      "See the caveats in the documentation: https://pandas.pydata.org/pandas-docs/stable/user_guide/indexing.html#returning-a-view-versus-a-copy\n",
      "  isetter(ilocs[0], value)\n"
     ]
    },
    {
     "data": {
      "text/html": [
       "<div>\n",
       "<style scoped>\n",
       "    .dataframe tbody tr th:only-of-type {\n",
       "        vertical-align: middle;\n",
       "    }\n",
       "\n",
       "    .dataframe tbody tr th {\n",
       "        vertical-align: top;\n",
       "    }\n",
       "\n",
       "    .dataframe thead th {\n",
       "        text-align: right;\n",
       "    }\n",
       "</style>\n",
       "<table border=\"1\" class=\"dataframe\">\n",
       "  <thead>\n",
       "    <tr style=\"text-align: right;\">\n",
       "      <th></th>\n",
       "      <th>Date</th>\n",
       "      <th>Open</th>\n",
       "      <th>Close</th>\n",
       "      <th>Volume</th>\n",
       "      <th>ma50</th>\n",
       "      <th>ma150</th>\n",
       "      <th>ma200</th>\n",
       "      <th>ma50volume</th>\n",
       "    </tr>\n",
       "  </thead>\n",
       "  <tbody>\n",
       "    <tr>\n",
       "      <th>0</th>\n",
       "      <td>2002-07-01</td>\n",
       "      <td>31.980000</td>\n",
       "      <td>31.280001</td>\n",
       "      <td>112855.0</td>\n",
       "      <td>NaN</td>\n",
       "      <td>NaN</td>\n",
       "      <td>NaN</td>\n",
       "      <td>NaN</td>\n",
       "    </tr>\n",
       "    <tr>\n",
       "      <th>1</th>\n",
       "      <td>2002-07-02</td>\n",
       "      <td>31.600000</td>\n",
       "      <td>31.440001</td>\n",
       "      <td>151425.0</td>\n",
       "      <td>NaN</td>\n",
       "      <td>NaN</td>\n",
       "      <td>NaN</td>\n",
       "      <td>NaN</td>\n",
       "    </tr>\n",
       "    <tr>\n",
       "      <th>2</th>\n",
       "      <td>2002-07-03</td>\n",
       "      <td>31.400000</td>\n",
       "      <td>31.830000</td>\n",
       "      <td>161135.0</td>\n",
       "      <td>NaN</td>\n",
       "      <td>NaN</td>\n",
       "      <td>NaN</td>\n",
       "      <td>NaN</td>\n",
       "    </tr>\n",
       "    <tr>\n",
       "      <th>3</th>\n",
       "      <td>2002-07-04</td>\n",
       "      <td>32.000000</td>\n",
       "      <td>32.090000</td>\n",
       "      <td>125250.0</td>\n",
       "      <td>NaN</td>\n",
       "      <td>NaN</td>\n",
       "      <td>NaN</td>\n",
       "      <td>NaN</td>\n",
       "    </tr>\n",
       "    <tr>\n",
       "      <th>4</th>\n",
       "      <td>2002-07-05</td>\n",
       "      <td>32.099998</td>\n",
       "      <td>32.470001</td>\n",
       "      <td>245415.0</td>\n",
       "      <td>NaN</td>\n",
       "      <td>NaN</td>\n",
       "      <td>NaN</td>\n",
       "      <td>NaN</td>\n",
       "    </tr>\n",
       "  </tbody>\n",
       "</table>\n",
       "</div>"
      ],
      "text/plain": [
       "        Date       Open      Close    Volume  ma50  ma150  ma200  ma50volume\n",
       "0 2002-07-01  31.980000  31.280001  112855.0   NaN    NaN    NaN         NaN\n",
       "1 2002-07-02  31.600000  31.440001  151425.0   NaN    NaN    NaN         NaN\n",
       "2 2002-07-03  31.400000  31.830000  161135.0   NaN    NaN    NaN         NaN\n",
       "3 2002-07-04  32.000000  32.090000  125250.0   NaN    NaN    NaN         NaN\n",
       "4 2002-07-05  32.099998  32.470001  245415.0   NaN    NaN    NaN         NaN"
      ]
     },
     "execution_count": 225,
     "metadata": {},
     "output_type": "execute_result"
    }
   ],
   "source": [
    "# # Daily SMA\n",
    "\n",
    "# df_new.loc[:, 'ma50'] = df_new.Close.rolling(50).mean()\n",
    "# df_new.loc[:, 'ma150'] = df_new.Close.rolling(150).mean()\n",
    "# df_new.loc[:, 'ma200'] = df_new.Close.rolling(200).mean()\n",
    "# df_new.loc[:, 'ma50volume'] = df_new.Volume.rolling(50).mean()\n",
    "# df_new.head()"
   ]
  },
  {
   "cell_type": "code",
   "execution_count": 247,
   "metadata": {
    "collapsed": true
   },
   "outputs": [
    {
     "name": "stderr",
     "output_type": "stream",
     "text": [
      "C:\\Users\\Prashant\\Anaconda3\\envs\\quant\\lib\\site-packages\\pandas\\core\\indexing.py:1596: SettingWithCopyWarning: \n",
      "A value is trying to be set on a copy of a slice from a DataFrame.\n",
      "Try using .loc[row_indexer,col_indexer] = value instead\n",
      "\n",
      "See the caveats in the documentation: https://pandas.pydata.org/pandas-docs/stable/user_guide/indexing.html#returning-a-view-versus-a-copy\n",
      "  self.obj[key] = _infer_fill_value(value)\n",
      "C:\\Users\\Prashant\\Anaconda3\\envs\\quant\\lib\\site-packages\\pandas\\core\\indexing.py:1745: SettingWithCopyWarning: \n",
      "A value is trying to be set on a copy of a slice from a DataFrame.\n",
      "Try using .loc[row_indexer,col_indexer] = value instead\n",
      "\n",
      "See the caveats in the documentation: https://pandas.pydata.org/pandas-docs/stable/user_guide/indexing.html#returning-a-view-versus-a-copy\n",
      "  isetter(ilocs[0], value)\n"
     ]
    },
    {
     "data": {
      "text/html": [
       "<div>\n",
       "<style scoped>\n",
       "    .dataframe tbody tr th:only-of-type {\n",
       "        vertical-align: middle;\n",
       "    }\n",
       "\n",
       "    .dataframe tbody tr th {\n",
       "        vertical-align: top;\n",
       "    }\n",
       "\n",
       "    .dataframe thead th {\n",
       "        text-align: right;\n",
       "    }\n",
       "</style>\n",
       "<table border=\"1\" class=\"dataframe\">\n",
       "  <thead>\n",
       "    <tr style=\"text-align: right;\">\n",
       "      <th></th>\n",
       "      <th>Date</th>\n",
       "      <th>Open</th>\n",
       "      <th>Close</th>\n",
       "      <th>Volume</th>\n",
       "      <th>ema50</th>\n",
       "      <th>ema150</th>\n",
       "      <th>ema200</th>\n",
       "      <th>sma50volume</th>\n",
       "    </tr>\n",
       "  </thead>\n",
       "  <tbody>\n",
       "    <tr>\n",
       "      <th>4586</th>\n",
       "      <td>2020-11-27</td>\n",
       "      <td>310.799988</td>\n",
       "      <td>308.799988</td>\n",
       "      <td>435534.0</td>\n",
       "      <td>282.549880</td>\n",
       "      <td>284.862272</td>\n",
       "      <td>292.561427</td>\n",
       "      <td>166834.58</td>\n",
       "    </tr>\n",
       "    <tr>\n",
       "      <th>4587</th>\n",
       "      <td>2020-12-01</td>\n",
       "      <td>310.500000</td>\n",
       "      <td>330.549988</td>\n",
       "      <td>1342983.0</td>\n",
       "      <td>284.432237</td>\n",
       "      <td>285.467407</td>\n",
       "      <td>292.939422</td>\n",
       "      <td>191642.88</td>\n",
       "    </tr>\n",
       "    <tr>\n",
       "      <th>4588</th>\n",
       "      <td>2020-12-02</td>\n",
       "      <td>336.700012</td>\n",
       "      <td>337.200012</td>\n",
       "      <td>744285.0</td>\n",
       "      <td>286.501561</td>\n",
       "      <td>286.152607</td>\n",
       "      <td>293.379826</td>\n",
       "      <td>197248.50</td>\n",
       "    </tr>\n",
       "    <tr>\n",
       "      <th>4589</th>\n",
       "      <td>2020-12-03</td>\n",
       "      <td>340.000000</td>\n",
       "      <td>330.100006</td>\n",
       "      <td>279285.0</td>\n",
       "      <td>288.211304</td>\n",
       "      <td>286.734692</td>\n",
       "      <td>293.745201</td>\n",
       "      <td>199455.44</td>\n",
       "    </tr>\n",
       "    <tr>\n",
       "      <th>4590</th>\n",
       "      <td>2020-12-04</td>\n",
       "      <td>329.600006</td>\n",
       "      <td>341.600006</td>\n",
       "      <td>1146941.0</td>\n",
       "      <td>290.304979</td>\n",
       "      <td>287.461385</td>\n",
       "      <td>294.221368</td>\n",
       "      <td>220250.72</td>\n",
       "    </tr>\n",
       "  </tbody>\n",
       "</table>\n",
       "</div>"
      ],
      "text/plain": [
       "           Date        Open       Close     Volume       ema50      ema150  \\\n",
       "4586 2020-11-27  310.799988  308.799988   435534.0  282.549880  284.862272   \n",
       "4587 2020-12-01  310.500000  330.549988  1342983.0  284.432237  285.467407   \n",
       "4588 2020-12-02  336.700012  337.200012   744285.0  286.501561  286.152607   \n",
       "4589 2020-12-03  340.000000  330.100006   279285.0  288.211304  286.734692   \n",
       "4590 2020-12-04  329.600006  341.600006  1146941.0  290.304979  287.461385   \n",
       "\n",
       "          ema200  sma50volume  \n",
       "4586  292.561427    166834.58  \n",
       "4587  292.939422    191642.88  \n",
       "4588  293.379826    197248.50  \n",
       "4589  293.745201    199455.44  \n",
       "4590  294.221368    220250.72  "
      ]
     },
     "execution_count": 247,
     "metadata": {},
     "output_type": "execute_result"
    }
   ],
   "source": [
    "# Daily EMA\n",
    "\n",
    "# df_new.loc[:, 'ema50'] = talib.EMA(df_new.Close, timeperiod=50)\n",
    "# df_new.loc[:, 'ema150'] = talib.EMA(df_new.Close, timeperiod=150)\n",
    "# df_new.loc[:, 'ema200'] = talib.EMA(df_new.Close, timeperiod=200)\n",
    "# df_new.loc[:, 'sma50volume'] = talib.SMA(df_new.Volume, timeperiod=50)\n",
    "# df_new.tail()"
   ]
  },
  {
   "cell_type": "code",
   "execution_count": 251,
   "metadata": {},
   "outputs": [
    {
     "data": {
      "text/html": [
       "<div>\n",
       "<style scoped>\n",
       "    .dataframe tbody tr th:only-of-type {\n",
       "        vertical-align: middle;\n",
       "    }\n",
       "\n",
       "    .dataframe tbody tr th {\n",
       "        vertical-align: top;\n",
       "    }\n",
       "\n",
       "    .dataframe thead th {\n",
       "        text-align: right;\n",
       "    }\n",
       "</style>\n",
       "<table border=\"1\" class=\"dataframe\">\n",
       "  <thead>\n",
       "    <tr style=\"text-align: right;\">\n",
       "      <th></th>\n",
       "      <th>Date</th>\n",
       "      <th>Open</th>\n",
       "      <th>Close</th>\n",
       "      <th>Volume</th>\n",
       "      <th>ema10</th>\n",
       "      <th>ema30</th>\n",
       "      <th>ema40</th>\n",
       "      <th>sma10volume</th>\n",
       "    </tr>\n",
       "  </thead>\n",
       "  <tbody>\n",
       "    <tr>\n",
       "      <th>958</th>\n",
       "      <td>2020-11-09</td>\n",
       "      <td>284.950012</td>\n",
       "      <td>272.899994</td>\n",
       "      <td>487095</td>\n",
       "      <td>278.454737</td>\n",
       "      <td>282.932847</td>\n",
       "      <td>290.494740</td>\n",
       "      <td>554235.3</td>\n",
       "    </tr>\n",
       "    <tr>\n",
       "      <th>959</th>\n",
       "      <td>2020-11-16</td>\n",
       "      <td>278.000000</td>\n",
       "      <td>283.649994</td>\n",
       "      <td>945144</td>\n",
       "      <td>279.399330</td>\n",
       "      <td>282.979115</td>\n",
       "      <td>290.160850</td>\n",
       "      <td>609595.0</td>\n",
       "    </tr>\n",
       "    <tr>\n",
       "      <th>960</th>\n",
       "      <td>2020-11-23</td>\n",
       "      <td>289.700012</td>\n",
       "      <td>308.799988</td>\n",
       "      <td>3017789</td>\n",
       "      <td>284.744904</td>\n",
       "      <td>284.644978</td>\n",
       "      <td>291.070076</td>\n",
       "      <td>777515.7</td>\n",
       "    </tr>\n",
       "    <tr>\n",
       "      <th>961</th>\n",
       "      <td>2020-11-30</td>\n",
       "      <td>308.799988</td>\n",
       "      <td>341.600006</td>\n",
       "      <td>3513494</td>\n",
       "      <td>295.082195</td>\n",
       "      <td>288.319496</td>\n",
       "      <td>293.534951</td>\n",
       "      <td>1072685.9</td>\n",
       "    </tr>\n",
       "    <tr>\n",
       "      <th>962</th>\n",
       "      <td>2020-12-04</td>\n",
       "      <td>329.600006</td>\n",
       "      <td>341.600006</td>\n",
       "      <td>1146531</td>\n",
       "      <td>303.539979</td>\n",
       "      <td>291.756948</td>\n",
       "      <td>295.879588</td>\n",
       "      <td>1154199.3</td>\n",
       "    </tr>\n",
       "  </tbody>\n",
       "</table>\n",
       "</div>"
      ],
      "text/plain": [
       "          Date        Open       Close   Volume       ema10       ema30  \\\n",
       "958 2020-11-09  284.950012  272.899994   487095  278.454737  282.932847   \n",
       "959 2020-11-16  278.000000  283.649994   945144  279.399330  282.979115   \n",
       "960 2020-11-23  289.700012  308.799988  3017789  284.744904  284.644978   \n",
       "961 2020-11-30  308.799988  341.600006  3513494  295.082195  288.319496   \n",
       "962 2020-12-04  329.600006  341.600006  1146531  303.539979  291.756948   \n",
       "\n",
       "          ema40  sma10volume  \n",
       "958  290.494740     554235.3  \n",
       "959  290.160850     609595.0  \n",
       "960  291.070076     777515.7  \n",
       "961  293.534951    1072685.9  \n",
       "962  295.879588    1154199.3  "
      ]
     },
     "execution_count": 251,
     "metadata": {},
     "output_type": "execute_result"
    }
   ],
   "source": [
    "# Weekly EMA\n",
    "\n",
    "df_new.loc[:, 'ema10'] = talib.EMA(df_new.Close, timeperiod=10)\n",
    "df_new.loc[:, 'ema30'] = talib.EMA(df_new.Close, timeperiod=30)\n",
    "df_new.loc[:, 'ema40'] = talib.EMA(df_new.Close, timeperiod=40)\n",
    "df_new.loc[:, 'sma10volume'] = talib.SMA(df_new.Volume, timeperiod=10)\n",
    "df_new.tail()"
   ]
  },
  {
   "cell_type": "code",
   "execution_count": null,
   "metadata": {},
   "outputs": [],
   "source": [
    "# Weekly\n",
    "\n",
    "# df_new.loc[:, 'ma10'] = df_new.Close.rolling(10).mean()\n",
    "# df_new.loc[:, 'ma30'] = df_new.Close.rolling(30).mean()\n",
    "# df_new.loc[:, 'ma40'] = df_new.Close.rolling(40).mean()\n",
    "# df_new.loc[:, 'ma10volume'] = df_new.Volume.rolling(10).mean()\n",
    "# df_new.head()"
   ]
  },
  {
   "cell_type": "code",
   "execution_count": 252,
   "metadata": {},
   "outputs": [],
   "source": [
    "# \n",
    "# plt.figure(figsize=(20, 7))\n",
    "# plt.plot(df_new['Date'], df_new['Close'], color = 'k', label= 'Close Price')\n",
    "# plt.plot(df_new['Date'], df_new['ma50'],color = 'r', label= '50-D SMA')\n",
    "# plt.plot(df_new['Date'], df_new['ma150'],color = 'b', label= '150-D SMA')\n",
    "# plt.plot(df_new['Date'], df_new['ma200'],color = 'g', label= '200-D SMA')\n",
    "# plt.plot(df['Date'], df['ma200'],color = 'b', label= '200-D SMA')\n",
    "\n",
    "# df_new.shape\n",
    "# df_new.info()\n",
    "# plt.legend()\n",
    "df_new.to_csv(\"df_FINCABLES.NS_Weekly_new_1.csv\", index=True, date_format='%Y-%m-%d')\n",
    "# import os\n",
    "# os.getcwd()"
   ]
  },
  {
   "cell_type": "code",
   "execution_count": 10,
   "metadata": {},
   "outputs": [],
   "source": []
  },
  {
   "cell_type": "code",
   "execution_count": 31,
   "metadata": {
    "collapsed": true
   },
   "outputs": [
    {
     "data": {
      "text/plain": [
       "<AxesSubplot:xlabel='Date'>"
      ]
     },
     "execution_count": 31,
     "metadata": {},
     "output_type": "execute_result"
    },
    {
     "data": {
      "image/png": "[encoded data removed]",
      "text/plain": [
       "<Figure size 432x288 with 1 Axes>"
      ]
     },
     "metadata": {
      "needs_background": "light"
     },
     "output_type": "display_data"
    }
   ],
   "source": [
    "# for ma in MA_day:\n",
    "#     column_name = 'MA for %s days' %(str(ma))\n",
    "#     df_hdfc[column_name] = pd.rolling(df_hdfc['Close'],ma).mean()\n",
    "\n",
    "df.plot(x=\"Date\", y=\"Volume\")"
   ]
  },
  {
   "cell_type": "code",
   "execution_count": 53,
   "metadata": {},
   "outputs": [],
   "source": [
    "t = yf.Ticker(\"ITC.NS\")"
   ]
  },
  {
   "cell_type": "code",
   "execution_count": 59,
   "metadata": {
    "collapsed": true
   },
   "outputs": [
    {
     "data": {
      "text/plain": [
       "Date\n",
       "1996-07-08     2.50\n",
       "1997-08-04     1.00\n",
       "1998-06-22     4.50\n",
       "1999-06-24     5.50\n",
       "2000-06-27     7.50\n",
       "2001-07-03    10.00\n",
       "2002-07-12    13.50\n",
       "2003-07-14    15.00\n",
       "2004-07-19    20.00\n",
       "2005-07-18    31.00\n",
       "2006-07-10     2.65\n",
       "2007-07-16     3.10\n",
       "2008-07-16     3.50\n",
       "2009-07-13     3.70\n",
       "2010-06-09     4.50\n",
       "2011-06-10     2.80\n",
       "2012-06-11     4.50\n",
       "2013-05-31     5.25\n",
       "2014-06-03     6.00\n",
       "2015-06-03     6.25\n",
       "2016-05-30     6.50\n",
       "2017-06-05     4.75\n",
       "2018-05-25     5.15\n",
       "2019-05-22     5.75\n",
       "2020-07-06    10.15\n",
       "Name: Dividends, dtype: float64"
      ]
     },
     "execution_count": 59,
     "metadata": {},
     "output_type": "execute_result"
    }
   ],
   "source": [
    "# t.info[\"longBusinessSummary\"]\n",
    "t.dividends"
   ]
  },
  {
   "cell_type": "code",
   "execution_count": 60,
   "metadata": {
    "collapsed": true
   },
   "outputs": [
    {
     "data": {
      "text/plain": [
       "<AxesSubplot:xlabel='Date'>"
      ]
     },
     "execution_count": 60,
     "metadata": {},
     "output_type": "execute_result"
    },
    {
     "data": {
      "image/png": "[encoded data removed]",
      "text/plain": [
       "<Figure size 1008x504 with 1 Axes>"
      ]
     },
     "metadata": {
      "needs_background": "light"
     },
     "output_type": "display_data"
    }
   ],
   "source": [
    "t.dividends.plot(figsize=(14,7))"
   ]
  },
  {
   "cell_type": "code",
   "execution_count": 88,
   "metadata": {
    "collapsed": true
   },
   "outputs": [
    {
     "data": {
      "text/html": [
       "<div>\n",
       "<style scoped>\n",
       "    .dataframe tbody tr th:only-of-type {\n",
       "        vertical-align: middle;\n",
       "    }\n",
       "\n",
       "    .dataframe tbody tr th {\n",
       "        vertical-align: top;\n",
       "    }\n",
       "\n",
       "    .dataframe thead th {\n",
       "        text-align: right;\n",
       "    }\n",
       "</style>\n",
       "<table border=\"1\" class=\"dataframe\">\n",
       "  <thead>\n",
       "    <tr style=\"text-align: right;\">\n",
       "      <th></th>\n",
       "      <th>Date</th>\n",
       "      <th>Open</th>\n",
       "      <th>High</th>\n",
       "      <th>Low</th>\n",
       "      <th>Close</th>\n",
       "      <th>Adj Close</th>\n",
       "      <th>Volume</th>\n",
       "      <th>ma20</th>\n",
       "      <th>ma200</th>\n",
       "    </tr>\n",
       "  </thead>\n",
       "  <tbody>\n",
       "    <tr>\n",
       "      <th>0</th>\n",
       "      <td>1996-01-01</td>\n",
       "      <td>3.030</td>\n",
       "      <td>3.030</td>\n",
       "      <td>2.925</td>\n",
       "      <td>2.980</td>\n",
       "      <td>0.595425</td>\n",
       "      <td>350000.0</td>\n",
       "      <td>NaN</td>\n",
       "      <td>NaN</td>\n",
       "    </tr>\n",
       "    <tr>\n",
       "      <th>1</th>\n",
       "      <td>1996-01-02</td>\n",
       "      <td>2.980</td>\n",
       "      <td>3.025</td>\n",
       "      <td>2.950</td>\n",
       "      <td>2.975</td>\n",
       "      <td>0.594426</td>\n",
       "      <td>412000.0</td>\n",
       "      <td>NaN</td>\n",
       "      <td>NaN</td>\n",
       "    </tr>\n",
       "    <tr>\n",
       "      <th>2</th>\n",
       "      <td>1996-01-03</td>\n",
       "      <td>2.975</td>\n",
       "      <td>2.995</td>\n",
       "      <td>2.950</td>\n",
       "      <td>2.985</td>\n",
       "      <td>0.596424</td>\n",
       "      <td>284000.0</td>\n",
       "      <td>NaN</td>\n",
       "      <td>NaN</td>\n",
       "    </tr>\n",
       "    <tr>\n",
       "      <th>3</th>\n",
       "      <td>1996-01-04</td>\n",
       "      <td>2.985</td>\n",
       "      <td>2.980</td>\n",
       "      <td>2.940</td>\n",
       "      <td>2.965</td>\n",
       "      <td>0.592428</td>\n",
       "      <td>282000.0</td>\n",
       "      <td>NaN</td>\n",
       "      <td>NaN</td>\n",
       "    </tr>\n",
       "    <tr>\n",
       "      <th>4</th>\n",
       "      <td>1996-01-05</td>\n",
       "      <td>2.965</td>\n",
       "      <td>2.980</td>\n",
       "      <td>2.950</td>\n",
       "      <td>2.960</td>\n",
       "      <td>0.591429</td>\n",
       "      <td>189000.0</td>\n",
       "      <td>NaN</td>\n",
       "      <td>NaN</td>\n",
       "    </tr>\n",
       "    <tr>\n",
       "      <th>...</th>\n",
       "      <td>...</td>\n",
       "      <td>...</td>\n",
       "      <td>...</td>\n",
       "      <td>...</td>\n",
       "      <td>...</td>\n",
       "      <td>...</td>\n",
       "      <td>...</td>\n",
       "      <td>...</td>\n",
       "      <td>...</td>\n",
       "    </tr>\n",
       "    <tr>\n",
       "      <th>195</th>\n",
       "      <td>1996-09-30</td>\n",
       "      <td>3.510</td>\n",
       "      <td>3.605</td>\n",
       "      <td>3.510</td>\n",
       "      <td>3.580</td>\n",
       "      <td>0.715309</td>\n",
       "      <td>414000.0</td>\n",
       "      <td>3.6760</td>\n",
       "      <td>NaN</td>\n",
       "    </tr>\n",
       "    <tr>\n",
       "      <th>196</th>\n",
       "      <td>1996-10-01</td>\n",
       "      <td>3.580</td>\n",
       "      <td>3.690</td>\n",
       "      <td>3.520</td>\n",
       "      <td>3.630</td>\n",
       "      <td>0.725299</td>\n",
       "      <td>1144000.0</td>\n",
       "      <td>3.6755</td>\n",
       "      <td>NaN</td>\n",
       "    </tr>\n",
       "    <tr>\n",
       "      <th>197</th>\n",
       "      <td>1996-10-02</td>\n",
       "      <td>NaN</td>\n",
       "      <td>NaN</td>\n",
       "      <td>NaN</td>\n",
       "      <td>NaN</td>\n",
       "      <td>NaN</td>\n",
       "      <td>NaN</td>\n",
       "      <td>NaN</td>\n",
       "      <td>NaN</td>\n",
       "    </tr>\n",
       "    <tr>\n",
       "      <th>198</th>\n",
       "      <td>1996-10-03</td>\n",
       "      <td>3.685</td>\n",
       "      <td>3.685</td>\n",
       "      <td>3.550</td>\n",
       "      <td>3.555</td>\n",
       "      <td>0.710314</td>\n",
       "      <td>660000.0</td>\n",
       "      <td>NaN</td>\n",
       "      <td>NaN</td>\n",
       "    </tr>\n",
       "    <tr>\n",
       "      <th>199</th>\n",
       "      <td>1996-10-04</td>\n",
       "      <td>3.510</td>\n",
       "      <td>3.625</td>\n",
       "      <td>3.510</td>\n",
       "      <td>3.580</td>\n",
       "      <td>0.715309</td>\n",
       "      <td>807000.0</td>\n",
       "      <td>NaN</td>\n",
       "      <td>NaN</td>\n",
       "    </tr>\n",
       "  </tbody>\n",
       "</table>\n",
       "<p>200 rows × 9 columns</p>\n",
       "</div>"
      ],
      "text/plain": [
       "          Date   Open   High    Low  Close  Adj Close     Volume    ma20  \\\n",
       "0   1996-01-01  3.030  3.030  2.925  2.980   0.595425   350000.0     NaN   \n",
       "1   1996-01-02  2.980  3.025  2.950  2.975   0.594426   412000.0     NaN   \n",
       "2   1996-01-03  2.975  2.995  2.950  2.985   0.596424   284000.0     NaN   \n",
       "3   1996-01-04  2.985  2.980  2.940  2.965   0.592428   282000.0     NaN   \n",
       "4   1996-01-05  2.965  2.980  2.950  2.960   0.591429   189000.0     NaN   \n",
       "..         ...    ...    ...    ...    ...        ...        ...     ...   \n",
       "195 1996-09-30  3.510  3.605  3.510  3.580   0.715309   414000.0  3.6760   \n",
       "196 1996-10-01  3.580  3.690  3.520  3.630   0.725299  1144000.0  3.6755   \n",
       "197 1996-10-02    NaN    NaN    NaN    NaN        NaN        NaN     NaN   \n",
       "198 1996-10-03  3.685  3.685  3.550  3.555   0.710314   660000.0     NaN   \n",
       "199 1996-10-04  3.510  3.625  3.510  3.580   0.715309   807000.0     NaN   \n",
       "\n",
       "     ma200  \n",
       "0      NaN  \n",
       "1      NaN  \n",
       "2      NaN  \n",
       "3      NaN  \n",
       "4      NaN  \n",
       "..     ...  \n",
       "195    NaN  \n",
       "196    NaN  \n",
       "197    NaN  \n",
       "198    NaN  \n",
       "199    NaN  \n",
       "\n",
       "[200 rows x 9 columns]"
      ]
     },
     "execution_count": 88,
     "metadata": {},
     "output_type": "execute_result"
    }
   ],
   "source": [
    "df.head(200)\n",
    "# df.dropna()"
   ]
  },
  {
   "cell_type": "code",
   "execution_count": 107,
   "metadata": {},
   "outputs": [
    {
     "data": {
      "text/plain": [
       "(6158, 9)"
      ]
     },
     "execution_count": 107,
     "metadata": {},
     "output_type": "execute_result"
    }
   ],
   "source": [
    "# df.loc[:, 'ma150'] = df.Close.rolling(50).mean()\n",
    "# df.loc[:, 'ma150'] = df.Close.rolling(150).mean()\n",
    "# df.loc[:, 'ma200'] = df.Close.rolling(200).mean()\n",
    "df.shape"
   ]
  },
  {
   "cell_type": "code",
   "execution_count": 76,
   "metadata": {
    "collapsed": true
   },
   "outputs": [
    {
     "data": {
      "text/html": [
       "<div>\n",
       "<style scoped>\n",
       "    .dataframe tbody tr th:only-of-type {\n",
       "        vertical-align: middle;\n",
       "    }\n",
       "\n",
       "    .dataframe tbody tr th {\n",
       "        vertical-align: top;\n",
       "    }\n",
       "\n",
       "    .dataframe thead th {\n",
       "        text-align: right;\n",
       "    }\n",
       "</style>\n",
       "<table border=\"1\" class=\"dataframe\">\n",
       "  <thead>\n",
       "    <tr style=\"text-align: right;\">\n",
       "      <th></th>\n",
       "      <th>Date</th>\n",
       "      <th>Open</th>\n",
       "      <th>High</th>\n",
       "      <th>Low</th>\n",
       "      <th>Close</th>\n",
       "      <th>Adj Close</th>\n",
       "      <th>Volume</th>\n",
       "      <th>ma20</th>\n",
       "      <th>ma200</th>\n",
       "    </tr>\n",
       "  </thead>\n",
       "  <tbody>\n",
       "    <tr>\n",
       "      <th>0</th>\n",
       "      <td>1996-01-01</td>\n",
       "      <td>3.030000</td>\n",
       "      <td>3.030000</td>\n",
       "      <td>2.925000</td>\n",
       "      <td>2.980000</td>\n",
       "      <td>0.595425</td>\n",
       "      <td>350000.0</td>\n",
       "      <td>NaN</td>\n",
       "      <td>NaN</td>\n",
       "    </tr>\n",
       "    <tr>\n",
       "      <th>1</th>\n",
       "      <td>1996-01-02</td>\n",
       "      <td>2.980000</td>\n",
       "      <td>3.025000</td>\n",
       "      <td>2.950000</td>\n",
       "      <td>2.975000</td>\n",
       "      <td>0.594426</td>\n",
       "      <td>412000.0</td>\n",
       "      <td>NaN</td>\n",
       "      <td>NaN</td>\n",
       "    </tr>\n",
       "    <tr>\n",
       "      <th>2</th>\n",
       "      <td>1996-01-03</td>\n",
       "      <td>2.975000</td>\n",
       "      <td>2.995000</td>\n",
       "      <td>2.950000</td>\n",
       "      <td>2.985000</td>\n",
       "      <td>0.596424</td>\n",
       "      <td>284000.0</td>\n",
       "      <td>NaN</td>\n",
       "      <td>NaN</td>\n",
       "    </tr>\n",
       "    <tr>\n",
       "      <th>3</th>\n",
       "      <td>1996-01-04</td>\n",
       "      <td>2.985000</td>\n",
       "      <td>2.980000</td>\n",
       "      <td>2.940000</td>\n",
       "      <td>2.965000</td>\n",
       "      <td>0.592428</td>\n",
       "      <td>282000.0</td>\n",
       "      <td>NaN</td>\n",
       "      <td>NaN</td>\n",
       "    </tr>\n",
       "    <tr>\n",
       "      <th>4</th>\n",
       "      <td>1996-01-05</td>\n",
       "      <td>2.965000</td>\n",
       "      <td>2.980000</td>\n",
       "      <td>2.950000</td>\n",
       "      <td>2.960000</td>\n",
       "      <td>0.591429</td>\n",
       "      <td>189000.0</td>\n",
       "      <td>NaN</td>\n",
       "      <td>NaN</td>\n",
       "    </tr>\n",
       "    <tr>\n",
       "      <th>...</th>\n",
       "      <td>...</td>\n",
       "      <td>...</td>\n",
       "      <td>...</td>\n",
       "      <td>...</td>\n",
       "      <td>...</td>\n",
       "      <td>...</td>\n",
       "      <td>...</td>\n",
       "      <td>...</td>\n",
       "      <td>...</td>\n",
       "    </tr>\n",
       "    <tr>\n",
       "      <th>6281</th>\n",
       "      <td>2020-11-27</td>\n",
       "      <td>1431.800049</td>\n",
       "      <td>1446.000000</td>\n",
       "      <td>1415.550049</td>\n",
       "      <td>1440.849976</td>\n",
       "      <td>1440.849976</td>\n",
       "      <td>8997290.0</td>\n",
       "      <td>NaN</td>\n",
       "      <td>NaN</td>\n",
       "    </tr>\n",
       "    <tr>\n",
       "      <th>6282</th>\n",
       "      <td>2020-12-01</td>\n",
       "      <td>1440.849976</td>\n",
       "      <td>1449.000000</td>\n",
       "      <td>1425.500000</td>\n",
       "      <td>1433.300049</td>\n",
       "      <td>1433.300049</td>\n",
       "      <td>8573787.0</td>\n",
       "      <td>NaN</td>\n",
       "      <td>NaN</td>\n",
       "    </tr>\n",
       "    <tr>\n",
       "      <th>6283</th>\n",
       "      <td>2020-12-02</td>\n",
       "      <td>1431.000000</td>\n",
       "      <td>1431.800049</td>\n",
       "      <td>1394.800049</td>\n",
       "      <td>1406.949951</td>\n",
       "      <td>1406.949951</td>\n",
       "      <td>8946075.0</td>\n",
       "      <td>NaN</td>\n",
       "      <td>NaN</td>\n",
       "    </tr>\n",
       "    <tr>\n",
       "      <th>6284</th>\n",
       "      <td>2020-12-03</td>\n",
       "      <td>1429.000000</td>\n",
       "      <td>1432.000000</td>\n",
       "      <td>1374.050049</td>\n",
       "      <td>1377.199951</td>\n",
       "      <td>1377.199951</td>\n",
       "      <td>18966611.0</td>\n",
       "      <td>NaN</td>\n",
       "      <td>NaN</td>\n",
       "    </tr>\n",
       "    <tr>\n",
       "      <th>6285</th>\n",
       "      <td>2020-12-04</td>\n",
       "      <td>1381.000000</td>\n",
       "      <td>1401.449951</td>\n",
       "      <td>1373.300049</td>\n",
       "      <td>1385.599976</td>\n",
       "      <td>1385.599976</td>\n",
       "      <td>13456161.0</td>\n",
       "      <td>NaN</td>\n",
       "      <td>NaN</td>\n",
       "    </tr>\n",
       "  </tbody>\n",
       "</table>\n",
       "<p>6286 rows × 9 columns</p>\n",
       "</div>"
      ],
      "text/plain": [
       "           Date         Open         High          Low        Close  \\\n",
       "0    1996-01-01     3.030000     3.030000     2.925000     2.980000   \n",
       "1    1996-01-02     2.980000     3.025000     2.950000     2.975000   \n",
       "2    1996-01-03     2.975000     2.995000     2.950000     2.985000   \n",
       "3    1996-01-04     2.985000     2.980000     2.940000     2.965000   \n",
       "4    1996-01-05     2.965000     2.980000     2.950000     2.960000   \n",
       "...         ...          ...          ...          ...          ...   \n",
       "6281 2020-11-27  1431.800049  1446.000000  1415.550049  1440.849976   \n",
       "6282 2020-12-01  1440.849976  1449.000000  1425.500000  1433.300049   \n",
       "6283 2020-12-02  1431.000000  1431.800049  1394.800049  1406.949951   \n",
       "6284 2020-12-03  1429.000000  1432.000000  1374.050049  1377.199951   \n",
       "6285 2020-12-04  1381.000000  1401.449951  1373.300049  1385.599976   \n",
       "\n",
       "        Adj Close      Volume  ma20  ma200  \n",
       "0        0.595425    350000.0   NaN    NaN  \n",
       "1        0.594426    412000.0   NaN    NaN  \n",
       "2        0.596424    284000.0   NaN    NaN  \n",
       "3        0.592428    282000.0   NaN    NaN  \n",
       "4        0.591429    189000.0   NaN    NaN  \n",
       "...           ...         ...   ...    ...  \n",
       "6281  1440.849976   8997290.0   NaN    NaN  \n",
       "6282  1433.300049   8573787.0   NaN    NaN  \n",
       "6283  1406.949951   8946075.0   NaN    NaN  \n",
       "6284  1377.199951  18966611.0   NaN    NaN  \n",
       "6285  1385.599976  13456161.0   NaN    NaN  \n",
       "\n",
       "[6286 rows x 9 columns]"
      ]
     },
     "execution_count": 76,
     "metadata": {},
     "output_type": "execute_result"
    }
   ],
   "source": [
    "df"
   ]
  },
  {
   "cell_type": "code",
   "execution_count": 139,
   "metadata": {},
   "outputs": [
    {
     "data": {
      "text/plain": [
       "<matplotlib.legend.Legend at 0x2699be57190>"
      ]
     },
     "execution_count": 139,
     "metadata": {},
     "output_type": "execute_result"
    },
    {
     "data": {
      "image/png": "[encoded data removed]",
      "text/plain": [
       "<Figure size 1440x504 with 1 Axes>"
      ]
     },
     "metadata": {
      "needs_background": "light"
     },
     "output_type": "display_data"
    }
   ],
   "source": [
    "# df.plot(x='Date',y='ma20', figsize=(14,7))\n",
    "# cx =  df.plot(x='Date',y='Close',color = 'k', label= 'Close Price', figsize=(20,7))\n",
    "# ma20x =  df.plot(x='Date',y='ma20', color = 'b',label = '20-day SMA', figsize=(20,7))\n",
    "# ma200x = df.plot(x='Date',y='ma200', color = 'g', label = '200-day SMA', figsize=(20,7))\n",
    "import matplotlib.pyplot as plt\n",
    "\n",
    "plt.figure(figsize=(20, 7))\n",
    "plt.plot(df['Date'], df['Close'], color = 'k', label= 'Close Price')\n",
    "plt.plot(df['Date'], df['ma20'],color = 'r', label= '20-D SMA')\n",
    "plt.plot(df['Date'], df['ma200'],color = 'b', label= '200-D SMA')\n",
    "\n",
    "plt.legend()\n",
    "# plt.show()"
   ]
  },
  {
   "cell_type": "code",
   "execution_count": 124,
   "metadata": {},
   "outputs": [
    {
     "ename": "NameError",
     "evalue": "name 'randn' is not defined",
     "traceback": [
      "\u001b[1;31m---------------------------------------------------------------------------\u001b[0m",
      "\u001b[1;31mNameError\u001b[0m                                 Traceback (most recent call last)",
      "\u001b[1;32m<ipython-input-124-970263391b2f>\u001b[0m in \u001b[0;36m<module>\u001b[1;34m\u001b[0m\n\u001b[1;32m----> 1\u001b[1;33m \u001b[0mts\u001b[0m \u001b[1;33m=\u001b[0m \u001b[0mpd\u001b[0m\u001b[1;33m.\u001b[0m\u001b[0mSeries\u001b[0m\u001b[1;33m(\u001b[0m\u001b[0mrandn\u001b[0m\u001b[1;33m(\u001b[0m\u001b[1;36m1000\u001b[0m\u001b[1;33m)\u001b[0m\u001b[1;33m,\u001b[0m \u001b[0mindex\u001b[0m\u001b[1;33m=\u001b[0m\u001b[0mdate_range\u001b[0m\u001b[1;33m(\u001b[0m\u001b[1;34m'1/1/2000'\u001b[0m\u001b[1;33m,\u001b[0m \u001b[0mperiods\u001b[0m\u001b[1;33m=\u001b[0m\u001b[1;36m1000\u001b[0m\u001b[1;33m)\u001b[0m\u001b[1;33m)\u001b[0m\u001b[1;33m\u001b[0m\u001b[1;33m\u001b[0m\u001b[0m\n\u001b[0m",
      "\u001b[1;31mNameError\u001b[0m: name 'randn' is not defined"
     ],
     "output_type": "error"
    }
   ],
   "source": [
    "df"
   ]
  },
  {
   "cell_type": "code",
   "execution_count": null,
   "metadata": {},
   "outputs": [],
   "source": []
  },
  {
   "cell_type": "code",
   "execution_count": null,
   "metadata": {},
   "outputs": [],
   "source": []
  },
  {
   "cell_type": "code",
   "execution_count": null,
   "metadata": {},
   "outputs": [],
   "source": []
  },
  {
   "cell_type": "code",
   "execution_count": null,
   "metadata": {},
   "outputs": [],
   "source": []
  },
  {
   "cell_type": "code",
   "execution_count": 113,
   "metadata": {},
   "outputs": [
    {
     "name": "stderr",
     "output_type": "stream",
     "text": [
      "No handles with labels found to put in legend.\n"
     ]
    },
    {
     "data": {
      "image/png": "[encoded data removed]",
      "text/plain": [
       "<Figure size 432x288 with 1 Axes>"
      ]
     },
     "metadata": {
      "needs_background": "light"
     },
     "output_type": "display_data"
    }
   ],
   "source": [
    "plt.ylabel('Price in Rupees', fontsize = 15 )\n",
    "plt.xlabel('Date', fontsize = 15 )\n",
    "plt.title('HDFCBANK', fontsize = 20)\n",
    "plt.legend()\n",
    "plt.grid()\n",
    "plt.show()"
   ]
  }
 ],
 "metadata": {
  "kernelspec": {
   "display_name": "Python 3",
   "language": "python",
   "name": "python3"
  },
  "language_info": {
   "codemirror_mode": {
    "name": "ipython",
    "version": 3
   },
   "file_extension": ".py",
   "mimetype": "text/x-python",
   "name": "python",
   "nbconvert_exporter": "python",
   "pygments_lexer": "ipython3",
   "version": "3.8.5"
  }
 },
 "nbformat": 4,
 "nbformat_minor": 2
}
